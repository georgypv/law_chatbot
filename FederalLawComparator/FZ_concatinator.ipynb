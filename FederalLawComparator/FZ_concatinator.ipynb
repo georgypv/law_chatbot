{
 "cells": [
  {
   "cell_type": "code",
   "execution_count": 1,
   "metadata": {},
   "outputs": [],
   "source": [
    "from docx import Document\n",
    "import re\n",
    "import os\n",
    "import json"
   ]
  },
  {
   "cell_type": "code",
   "execution_count": 2,
   "metadata": {},
   "outputs": [],
   "source": [
    "main_dict = {}\n",
    "main_docx = Document()\n",
    "last_number = 0\n",
    "a = 0\n",
    "\n",
    "for dirname, dirnames, filenames in os.walk('Файлы законов после обработки'):\n",
    "    # print path to all subdirectories first.\n",
    "    for subdirname in dirnames:\n",
    "        for fz_dirname, fz_dirnames, fz_filenames in os.walk(os.path.join(dirname, subdirname)):\n",
    "            for filename in fz_filenames:\n",
    "                if filename.find('.docx.json') > 0:\n",
    "                    with open(os.path.join(dirname, subdirname, filename), 'r', encoding='utf-8') as f:\n",
    "                        links_dictionary = json.load(f)\n",
    "                        for key, value in links_dictionary.items():\n",
    "                            links_dictionary[key].insert(0, subdirname)\n",
    "                            main_dict[str(int(key) + last_number)] = links_dictionary[key]\n",
    "                            a = int(key) + last_number\n",
    "                        last_number = a\n",
    "                if filename.find('.docxwithout.docx') > 0:\n",
    "                    document = Document(os.path.join(dirname, subdirname, filename))\n",
    "                    for paragraph in document.paragraphs:\n",
    "                        text = paragraph.text\n",
    "                        main_docx.add_paragraph(text)\n",
    "\n",
    "main_docx.save('main.docx')\n",
    "    \n",
    "with open('main.json', 'w',encoding='utf8') as fp:\n",
    "    json.dump(main_dict, fp,ensure_ascii=False)\n",
    "\n",
    "\n",
    "\n"
   ]
  },
  {
   "cell_type": "code",
   "execution_count": null,
   "outputs": [],
   "source": [
    "\n"
   ],
   "metadata": {
    "collapsed": false,
    "pycharm": {
     "name": "#%%\n"
    }
   }
  }
 ],
 "metadata": {
  "kernelspec": {
   "display_name": "Python 3",
   "language": "python",
   "name": "python3"
  },
  "language_info": {
   "codemirror_mode": {
    "name": "ipython",
    "version": 3
   },
   "file_extension": ".py",
   "mimetype": "text/x-python",
   "name": "python",
   "nbconvert_exporter": "python",
   "pygments_lexer": "ipython3",
   "version": "3.7.3"
  },
  "pycharm": {
   "stem_cell": {
    "cell_type": "raw",
    "source": [],
    "metadata": {
     "collapsed": false
    }
   }
  }
 },
 "nbformat": 4,
 "nbformat_minor": 2
}
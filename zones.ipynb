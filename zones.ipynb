{
 "cells": [
  {
   "cell_type": "code",
   "execution_count": 35,
   "metadata": {
    "pycharm": {
     "is_executing": false
    }
   },
   "outputs": [],
   "source": [
    "import json\n",
    "with open('main.json', 'r', encoding='utf8') as fp:\n",
    "    data = json.load(fp)"
   ]
  },
  {
   "cell_type": "code",
   "execution_count": 36,
   "metadata": {
    "pycharm": {
     "is_executing": false,
     "name": "#%%\n"
    }
   },
   "outputs": [],
   "source": [
    "import numpy as np\n",
    "import core\n"
   ]
  },
  {
   "cell_type": "code",
   "execution_count": 37,
   "metadata": {
    "pycharm": {
     "is_executing": false,
     "name": "#%%\n"
    }
   },
   "outputs": [],
   "source": [
    "metadata =[]\n",
    "for k, i in data.items():\n",
    "    if len(i) > 3:\n",
    "        metadata.append(\" \".join(i[1:3]))\n",
    "    else:\n",
    "        metadata.append(i[1])"
   ]
  },
  {
   "cell_type": "code",
   "execution_count": 38,
   "metadata": {
    "pycharm": {
     "is_executing": false,
     "name": "#%%\n"
    }
   },
   "outputs": [],
   "source": [
    "def get_metadata(json_file, encoding='utf8'):\n",
    "    \"\"\"\n",
    "    На вход: json-файл со словарем {индекс параграфа: [ФЗ, Глава, Статья, пункт]\n",
    "    Возвращает метаданные (названия статей и глав) в формате: ['строка1', 'строка2',...]\n",
    "    \n",
    "    \"\"\"\n",
    "    with open(json_file, 'r', encoding=encoding) as fp:\n",
    "        data = json.load(fp)\n",
    "    metadata =[]\n",
    "    for key, item in data.items():\n",
    "        if len(item) > 3:\n",
    "            metadata.append(\" \".join(item[1:3]))\n",
    "        else:\n",
    "            metadata.append(item[1])\n",
    "    return metadata\n",
    "        "
   ]
  },
  {
   "cell_type": "code",
   "execution_count": 39,
   "metadata": {
    "pycharm": {
     "is_executing": false,
     "name": "#%%\n"
    }
   },
   "outputs": [],
   "source": [
    "corp_meta = core.preprocess_corpus(metadata)"
   ]
  },
  {
   "cell_type": "code",
   "execution_count": 63,
   "metadata": {},
   "outputs": [],
   "source": [
    "with open('main.json', 'r', encoding='utf8') as f:\n",
    "    d = json.load(f)"
   ]
  },
  {
   "cell_type": "code",
   "execution_count": 105,
   "metadata": {},
   "outputs": [
    {
     "data": {
      "text/plain": [
       "['Федеральный закон № 353-ФЗ',\n",
       " 'Статья 12. Уступка прав (требований) по договору потребительского кредита (займа)',\n",
       " 'ч.1.']"
      ]
     },
     "execution_count": 105,
     "metadata": {},
     "output_type": "execute_result"
    }
   ],
   "source": [
    "d['1450']"
   ]
  },
  {
   "cell_type": "markdown",
   "metadata": {
    "pycharm": {
     "is_executing": false,
     "name": "#%%\n"
    }
   },
   "source": [
    "core.top_docs_bm25okapi(\"обязанности оператора пдн\", corp_meta, 10)\n"
   ]
  },
  {
   "cell_type": "code",
   "execution_count": 55,
   "metadata": {
    "pycharm": {
     "is_executing": false,
     "name": "#%%\n"
    }
   },
   "outputs": [],
   "source": [
    "doc = core.load_doc('main.docx')\n",
    "corp_text = core.preprocess_corpus(doc)"
   ]
  },
  {
   "cell_type": "code",
   "execution_count": 99,
   "metadata": {},
   "outputs": [
    {
     "data": {
      "text/plain": [
       "'7. Полномочия органов местного самоуправления и органов государственной власти субъекта Российской Федерации в сфере рекламы, установленные настоящим Федеральным законом, могут быть перераспределены между ними в порядке, предусмотренном частью 1.2 статьи 17 Федерального закона от 6 октября 2003 года N 131-ФЗ \"Об общих принципах организации местного самоуправления в Российской Федерации\".'"
      ]
     },
     "execution_count": 99,
     "metadata": {},
     "output_type": "execute_result"
    }
   ],
   "source": [
    "doc[1878]"
   ]
  },
  {
   "cell_type": "code",
   "execution_count": 10,
   "metadata": {
    "pycharm": {
     "is_executing": false,
     "name": "#%%\n"
    }
   },
   "outputs": [
    {
     "name": "stderr",
     "output_type": "stream",
     "text": [
      "[nltk_data] Downloading package stopwords to\n",
      "[nltk_data]     C:\\Users\\Georgy\\AppData\\Roaming\\nltk_data...\n",
      "[nltk_data]   Package stopwords is already up-to-date!\n"
     ]
    }
   ],
   "source": [
    "import nltk\n",
    "import rank_bm25\n",
    "from string import punctuation\n",
    "from nltk import WordPunctTokenizer\n",
    "nltk.download(\"stopwords\")\n",
    "from nltk.corpus import stopwords\n",
    "tokenizer = WordPunctTokenizer()\n",
    "stemmer = nltk.stem.SnowballStemmer('russian')\n",
    "russian_stopwords = stopwords.words(\"russian\")\n",
    "\n",
    "with open('syn_map.json', 'r', encoding='utf-8') as fp:\n",
    "    syn_map = json.load(fp)\n",
    "\n",
    "def preprocess_query(query, bigrams=False):\n",
    "    '''\n",
    "\n",
    "    Предобрабатываем запрос по тому же шаблону,\n",
    "    что и для целого документа.\n",
    "    На вход: пользовательский запрос в формате строки; на выход:\n",
    "    Массив из предобработанных слов запроса\n",
    "    Если bigrams=True, то функция выдаёт биграммы слов в запросе\n",
    "\n",
    "    '''\n",
    "\n",
    "    query = ' '.join(tokenizer.tokenize(query))\n",
    "    query_text = []\n",
    "    for word in query.split():\n",
    "        if word not in russian_stopwords and word != ' ' and word.strip() not in punctuation and word.strip()[-1] not in punctuation:\n",
    "            word = word.lower()\n",
    "            stemmed_word = stemmer.stem(word)\n",
    "            #если выражение из запроса в словаре syn_map, то оно заменяется на выражение из закона\n",
    "            #пока может заменять только слова, а не словосочетания\n",
    "            if stemmed_word in syn_map.keys():\n",
    "                stemmed_word = syn_map[stemmed_word]\n",
    "                if isinstance(stemmed_word, list):\n",
    "                    for s_w in stemmed_word:\n",
    "                        query_text.append(s_w)\n",
    "            else:\n",
    "                query_text.append(stemmed_word)\n",
    "    if bigrams:\n",
    "        query_bigrams = list(ngrams(query_text, 2))\n",
    "        query_bigrams = ['_'.join(list(bigram)) for bigram in query_bigrams]\n",
    "        return query_bigrams\n",
    "\n",
    "    else:\n",
    "        return query_text\n",
    "\n",
    "def top_docs_bm25okapi_(query, corp):\n",
    "    '''На вход: запрос в формате строки, предобработанный корпус текстов и количество релевантных документов в выдаче.\n",
    "    На выход: индексы топ-N параграфов документа в формате массива'''\n",
    "    bm25okapi = rank_bm25.BM25Okapi(corp)\n",
    "    top_docs_indices = np.argsort((bm25okapi.get_scores(preprocess_query(query))))[::-1]\n",
    "    top_docs_indices = list(top_docs_indices)\n",
    "    return top_docs_indices\n"
   ]
  },
  {
   "cell_type": "code",
   "execution_count": 14,
   "metadata": {
    "pycharm": {
     "name": "#%%\n"
    }
   },
   "outputs": [],
   "source": [
    "def ranking_with_metadata(query, corpus_text, corpus_meta, weight_meta=0.25, ntop=5):\n",
    "    \n",
    "    \"\"\"\n",
    "    query: текстовый запрос\n",
    "    corpus_text: предобработанный корпус текстов (содержания) параграфов\n",
    "    corpus_meta: предобработанный корпус метаданных (названий статей и глав)\n",
    "    weight_meta: веса, которые назначаются рангу документов из метаданных (названий статей и глав)\n",
    "    возвращает ntop индексов параграфов, ранг которых получен путем взвешивания ранга по поиску по метаданным и ранга по поиску по содержанию\n",
    "    \"\"\"\n",
    "    \n",
    "    ranking_text = {}\n",
    "    for rank, paragraph in enumerate(core.top_docs_bm25okapi(query, corpus_text, ntop=len(corpus_text))):\n",
    "        ranking_text[paragraph] = rank + 1\n",
    "    ranking_meta = {}\n",
    "    for rank, paragraph in enumerate(core.top_docs_bm25okapi(query, corpus_meta, ntop=len(corpus_meta))):\n",
    "        ranking_meta[paragraph] = rank + 1\n",
    "    ranking_ = []\n",
    "    for paragraph in ranking_text.keys():\n",
    "        final_ranking = (weight_meta * ranking_meta[paragraph]) + ((1 - weight_meta) * ranking_text[paragraph])\n",
    "        ranking_.append(tuple([final_ranking, paragraph]))\n",
    "    ranking_final = [x[1] for x in sorted(ranking_, key= lambda x: x[0])]\n",
    "    \n",
    "    return ranking_final[:ntop]\n",
    "        "
   ]
  },
  {
   "cell_type": "code",
   "execution_count": null,
   "metadata": {
    "pycharm": {
     "name": "#%%\n"
    }
   },
   "outputs": [],
   "source": [
    "ranking_meta = {}\n",
    "for pos, i in enumerate(top_docs_bm25okapi_('обязанности оператора персональных данных',corp_metadata)):\n",
    "    ranking_meta[i] = pos + 1"
   ]
  },
  {
   "cell_type": "code",
   "execution_count": 80,
   "metadata": {
    "pycharm": {
     "is_executing": false,
     "name": "#%%\n"
    }
   },
   "outputs": [],
   "source": [
    "ranking_text = {}\n",
    "for pos, i in enumerate(top_docs_bm25okapi_('обязанности оператора персональных данных',corp_text)):\n",
    "    ranking_text[i] = pos + 1"
   ]
  },
  {
   "cell_type": "code",
   "execution_count": 95,
   "metadata": {
    "pycharm": {
     "is_executing": false,
     "name": "#%%\n"
    }
   },
   "outputs": [],
   "source": [
    "ranking_ = []\n",
    "for paragraph in ranking_text.keys():\n",
    "    final_ranking = (0.1 * ranking_meta[paragraph]) + (0.9 * ranking_text[paragraph])\n",
    "    ranking_.append(tuple([final_ranking, paragraph]))\n",
    "    "
   ]
  },
  {
   "cell_type": "code",
   "execution_count": 96,
   "metadata": {
    "pycharm": {
     "is_executing": false,
     "name": "#%%\n"
    }
   },
   "outputs": [],
   "source": [
    "ranking_final = [x[1] for x in sorted(ranking_, key= lambda x: x[0])]\n"
   ]
  },
  {
   "cell_type": "code",
   "execution_count": 27,
   "metadata": {
    "pycharm": {
     "is_executing": false,
     "name": "#%%\n"
    }
   },
   "outputs": [
    {
     "data": {
      "text/plain": [
       "[526, 525, 529, 527, 528]"
      ]
     },
     "execution_count": 27,
     "metadata": {},
     "output_type": "execute_result"
    }
   ],
   "source": [
    "ranking_with_metadata('трансграничная передача пдн', corp_text, corp_meta)"
   ]
  },
  {
   "cell_type": "code",
   "execution_count": 28,
   "metadata": {
    "pycharm": {
     "is_executing": false,
     "name": "#%%\n"
    }
   },
   "outputs": [
    {
     "ename": "TypeError",
     "evalue": "display_passages_from_doc() got multiple values for argument 'method'",
     "output_type": "error",
     "traceback": [
      "\u001b[1;31m---------------------------------------------------------------------------\u001b[0m",
      "\u001b[1;31mTypeError\u001b[0m                                 Traceback (most recent call last)",
      "\u001b[1;32m<ipython-input-28-66a22b57ed98>\u001b[0m in \u001b[0;36m<module>\u001b[1;34m\u001b[0m\n\u001b[1;32m----> 1\u001b[1;33m \u001b[0mcore\u001b[0m\u001b[1;33m.\u001b[0m\u001b[0mdisplay_passages_from_doc\u001b[0m\u001b[1;33m(\u001b[0m\u001b[1;34m'трансграничная передача пдн'\u001b[0m\u001b[1;33m,\u001b[0m \u001b[0mdoc\u001b[0m\u001b[1;33m,\u001b[0m \u001b[0mcorp_text\u001b[0m\u001b[1;33m,\u001b[0m \u001b[0mcorp_meta\u001b[0m\u001b[1;33m,\u001b[0m \u001b[0mmethod\u001b[0m\u001b[1;33m=\u001b[0m\u001b[1;34m'w'\u001b[0m\u001b[1;33m)\u001b[0m\u001b[1;33m\u001b[0m\u001b[1;33m\u001b[0m\u001b[0m\n\u001b[0m",
      "\u001b[1;31mTypeError\u001b[0m: display_passages_from_doc() got multiple values for argument 'method'"
     ]
    }
   ],
   "source": [
    "core.display_passages_from_doc('трансграничная передача пдн', doc, corp_text, corp_meta, method='w')"
   ]
  },
  {
   "cell_type": "code",
   "execution_count": 29,
   "metadata": {
    "pycharm": {
     "name": "#%%\n"
    }
   },
   "outputs": [],
   "source": [
    "\n",
    "import core"
   ]
  },
  {
   "cell_type": "code",
   "execution_count": null,
   "metadata": {},
   "outputs": [],
   "source": [
    "core.display_passages_from_doc()"
   ]
  }
 ],
 "metadata": {
  "kernelspec": {
   "display_name": "Python 3",
   "language": "python",
   "name": "python3"
  },
  "language_info": {
   "codemirror_mode": {
    "name": "ipython",
    "version": 3
   },
   "file_extension": ".py",
   "mimetype": "text/x-python",
   "name": "python",
   "nbconvert_exporter": "python",
   "pygments_lexer": "ipython3",
   "version": "3.7.3"
  },
  "pycharm": {
   "stem_cell": {
    "cell_type": "raw",
    "metadata": {
     "collapsed": false
    },
    "source": []
   }
  }
 },
 "nbformat": 4,
 "nbformat_minor": 1
}
